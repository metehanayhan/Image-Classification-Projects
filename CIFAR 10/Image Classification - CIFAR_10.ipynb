{
 "cells": [
  {
   "cell_type": "markdown",
   "id": "16499c99-7815-456b-80b2-5dfe2c938f2c",
   "metadata": {},
   "source": [
    "# Metehan Ayhan - Image Classification CIFAR_10 Project"
   ]
  },
  {
   "cell_type": "markdown",
   "id": "e7e1e098-1081-4ead-99d9-0c9c5594e657",
   "metadata": {},
   "source": [
    "Bu proje, CIFAR-10 veri setini kullanarak görüntü sınıflandırma problemini çözmeyi amaçlamaktadır. CIFAR-10 veri seti, 32x32 piksel boyutunda renkli görüntüler içeren ve 10 farklı kategoriye ayrılmış toplam 60,000 görüntüden oluşmaktadır. Bu proje kapsamında, TensorFlow ve Keras kütüphanelerini kullanarak bir Konvolüsyonel Sinir Ağı (CNN) modeli geliştirilecektir. Model, eğitim verileri kullanılarak eğitilecek ve test verileri üzerinde doğruluğu değerlendirilecektir. Amaç, modelin çeşitli nesne kategorilerini yüksek doğrulukla sınıflandırabilmesini sağlamak ve böylece derin öğrenme tekniklerinin görüntü sınıflandırma üzerindeki etkinliğini değerlendirmektir."
   ]
  },
  {
   "cell_type": "markdown",
   "id": "403bd78a-e721-4830-a658-d524d561bae1",
   "metadata": {},
   "source": [
    "### Import Packet"
   ]
  },
  {
   "cell_type": "code",
   "execution_count": 36,
   "id": "bdb28b5b-589c-409b-982e-fce6285b9d9c",
   "metadata": {},
   "outputs": [],
   "source": [
    "import tensorflow as tf\n",
    "import numpy as np\n",
    "import matplotlib.pyplot as plt\n",
    "from tensorflow.keras.datasets import cifar10\n",
    "from tensorflow.keras.models import Sequential\n",
    "from tensorflow.keras.layers import Dense, Conv2D, InputLayer, Reshape, MaxPooling2D, Flatten, Dropout, BatchNormalization\n",
    "import warnings\n",
    "warnings.filterwarnings(\"ignore\")"
   ]
  },
  {
   "cell_type": "markdown",
   "id": "dfe9e795-fa4d-43be-9d1d-74dff4d35c4d",
   "metadata": {},
   "source": [
    "### Import Data"
   ]
  },
  {
   "cell_type": "code",
   "execution_count": 6,
   "id": "402beded-2546-4528-93af-a33430011d74",
   "metadata": {},
   "outputs": [],
   "source": [
    "(x_train, y_train), (x_test, y_test) = cifar10.load_data()"
   ]
  },
  {
   "cell_type": "code",
   "execution_count": 7,
   "id": "331de159-710d-4c83-980b-65ccf82c17ee",
   "metadata": {},
   "outputs": [
    {
     "data": {
      "text/plain": [
       "(50000, 32, 32, 3)"
      ]
     },
     "execution_count": 7,
     "metadata": {},
     "output_type": "execute_result"
    }
   ],
   "source": [
    "x_train.shape"
   ]
  },
  {
   "cell_type": "code",
   "execution_count": 8,
   "id": "ca80bd74-167c-49c9-9223-eb8ceffbf39a",
   "metadata": {},
   "outputs": [
    {
     "data": {
      "text/plain": [
       "(10000, 32, 32, 3)"
      ]
     },
     "execution_count": 8,
     "metadata": {},
     "output_type": "execute_result"
    }
   ],
   "source": [
    "x_test.shape"
   ]
  },
  {
   "cell_type": "code",
   "execution_count": 9,
   "id": "e6a01a1e-b1fe-414e-b204-011e7ac15210",
   "metadata": {},
   "outputs": [
    {
     "data": {
      "text/plain": [
       "<matplotlib.image.AxesImage at 0x29bea63a5d0>"
      ]
     },
     "execution_count": 9,
     "metadata": {},
     "output_type": "execute_result"
    },
    {
     "data": {
      "image/png": "[encoded data removed]",
      "text/plain": [
       "<Figure size 640x480 with 1 Axes>"
      ]
     },
     "metadata": {},
     "output_type": "display_data"
    }
   ],
   "source": [
    "plt.imshow(x_train[9])"
   ]
  },
  {
   "cell_type": "code",
   "execution_count": 10,
   "id": "c61e65da-eae4-49e7-9e30-a1193ecfb856",
   "metadata": {},
   "outputs": [
    {
     "data": {
      "text/plain": [
       "<matplotlib.image.AxesImage at 0x29bea7c4350>"
      ]
     },
     "execution_count": 10,
     "metadata": {},
     "output_type": "execute_result"
    },
    {
     "data": {
      "image/png": "[encoded data removed]",
      "text/plain": [
       "<Figure size 640x480 with 1 Axes>"
      ]
     },
     "metadata": {},
     "output_type": "display_data"
    }
   ],
   "source": [
    "plt.imshow(x_train[19])"
   ]
  },
  {
   "cell_type": "markdown",
   "id": "3925ecef-9e52-4c09-a1d6-b6592b5d2cae",
   "metadata": {},
   "source": [
    "### Normalize"
   ]
  },
  {
   "cell_type": "code",
   "execution_count": 12,
   "id": "2e3b11eb-491e-4ad1-a754-1a64dd915e01",
   "metadata": {},
   "outputs": [],
   "source": [
    "x_train=x_train/255.0\n",
    "x_test=x_test/255.0"
   ]
  },
  {
   "cell_type": "markdown",
   "id": "46908fbb-eecf-463f-adf1-e2bb304ac500",
   "metadata": {},
   "source": [
    "### Model"
   ]
  },
  {
   "cell_type": "code",
   "execution_count": 38,
   "id": "c6910444-2e05-4401-8f94-691239064155",
   "metadata": {},
   "outputs": [],
   "source": [
    "model = Sequential([\n",
    "    InputLayer(input_shape=(32, 32, 3)),  # CIFAR-10 için RGB görüntü\n",
    "    Conv2D(filters=32, kernel_size=(3, 3), activation='relu'),\n",
    "    BatchNormalization(),\n",
    "    MaxPooling2D(pool_size=(2, 2)),\n",
    "    Conv2D(filters=64, kernel_size=(3, 3), activation='relu'),\n",
    "    BatchNormalization(),\n",
    "    MaxPooling2D(pool_size=(2, 2)),\n",
    "    Conv2D(filters=128, kernel_size=(3, 3), activation='relu'),\n",
    "    BatchNormalization(),\n",
    "    Flatten(),\n",
    "    Dense(128, activation='relu'),\n",
    "    Dropout(0.5), \n",
    "    Dense(10, activation='softmax')  # Sınıflandırma için softmax\n",
    "])\n",
    "\n",
    "model.compile(optimizer='adam',\n",
    "              loss='sparse_categorical_crossentropy',\n",
    "              metrics=['accuracy'])\n"
   ]
  },
  {
   "cell_type": "code",
   "execution_count": 15,
   "id": "80b3dd2c-13b5-469b-9777-2cf988f9bf66",
   "metadata": {
    "scrolled": true
   },
   "outputs": [
    {
     "name": "stdout",
     "output_type": "stream",
     "text": [
      "Epoch 1/25\n",
      "\u001b[1m1250/1250\u001b[0m \u001b[32m━━━━━━━━━━━━━━━━━━━━\u001b[0m\u001b[37m\u001b[0m \u001b[1m51s\u001b[0m 33ms/step - accuracy: 0.3678 - loss: 2.0258 - val_accuracy: 0.4839 - val_loss: 1.5711\n",
      "Epoch 2/25\n",
      "\u001b[1m1250/1250\u001b[0m \u001b[32m━━━━━━━━━━━━━━━━━━━━\u001b[0m\u001b[37m\u001b[0m \u001b[1m41s\u001b[0m 33ms/step - accuracy: 0.5643 - loss: 1.2425 - val_accuracy: 0.5928 - val_loss: 1.1400\n",
      "Epoch 3/25\n",
      "\u001b[1m1250/1250\u001b[0m \u001b[32m━━━━━━━━━━━━━━━━━━━━\u001b[0m\u001b[37m\u001b[0m \u001b[1m42s\u001b[0m 33ms/step - accuracy: 0.6296 - loss: 1.0580 - val_accuracy: 0.5347 - val_loss: 1.3782\n",
      "Epoch 4/25\n",
      "\u001b[1m1250/1250\u001b[0m \u001b[32m━━━━━━━━━━━━━━━━━━━━\u001b[0m\u001b[37m\u001b[0m \u001b[1m42s\u001b[0m 34ms/step - accuracy: 0.6701 - loss: 0.9279 - val_accuracy: 0.5921 - val_loss: 1.1454\n",
      "Epoch 5/25\n",
      "\u001b[1m1250/1250\u001b[0m \u001b[32m━━━━━━━━━━━━━━━━━━━━\u001b[0m\u001b[37m\u001b[0m \u001b[1m41s\u001b[0m 33ms/step - accuracy: 0.7102 - loss: 0.8297 - val_accuracy: 0.6093 - val_loss: 1.1905\n",
      "Epoch 6/25\n",
      "\u001b[1m1250/1250\u001b[0m \u001b[32m━━━━━━━━━━━━━━━━━━━━\u001b[0m\u001b[37m\u001b[0m \u001b[1m41s\u001b[0m 33ms/step - accuracy: 0.7304 - loss: 0.7715 - val_accuracy: 0.7019 - val_loss: 0.8805\n",
      "Epoch 7/25\n",
      "\u001b[1m1250/1250\u001b[0m \u001b[32m━━━━━━━━━━━━━━━━━━━━\u001b[0m\u001b[37m\u001b[0m \u001b[1m42s\u001b[0m 34ms/step - accuracy: 0.7547 - loss: 0.6953 - val_accuracy: 0.6737 - val_loss: 0.9761\n",
      "Epoch 8/25\n",
      "\u001b[1m1250/1250\u001b[0m \u001b[32m━━━━━━━━━━━━━━━━━━━━\u001b[0m\u001b[37m\u001b[0m \u001b[1m42s\u001b[0m 33ms/step - accuracy: 0.7817 - loss: 0.6302 - val_accuracy: 0.7170 - val_loss: 0.8412\n",
      "Epoch 9/25\n",
      "\u001b[1m1250/1250\u001b[0m \u001b[32m━━━━━━━━━━━━━━━━━━━━\u001b[0m\u001b[37m\u001b[0m \u001b[1m41s\u001b[0m 33ms/step - accuracy: 0.7963 - loss: 0.5817 - val_accuracy: 0.7037 - val_loss: 0.9384\n",
      "Epoch 10/25\n",
      "\u001b[1m1250/1250\u001b[0m \u001b[32m━━━━━━━━━━━━━━━━━━━━\u001b[0m\u001b[37m\u001b[0m \u001b[1m42s\u001b[0m 34ms/step - accuracy: 0.8140 - loss: 0.5273 - val_accuracy: 0.6914 - val_loss: 1.0690\n",
      "Epoch 11/25\n",
      "\u001b[1m1250/1250\u001b[0m \u001b[32m━━━━━━━━━━━━━━━━━━━━\u001b[0m\u001b[37m\u001b[0m \u001b[1m41s\u001b[0m 33ms/step - accuracy: 0.8257 - loss: 0.4928 - val_accuracy: 0.6694 - val_loss: 1.0595\n",
      "Epoch 12/25\n",
      "\u001b[1m1250/1250\u001b[0m \u001b[32m━━━━━━━━━━━━━━━━━━━━\u001b[0m\u001b[37m\u001b[0m \u001b[1m41s\u001b[0m 33ms/step - accuracy: 0.8338 - loss: 0.4647 - val_accuracy: 0.6618 - val_loss: 1.1161\n",
      "Epoch 13/25\n",
      "\u001b[1m1250/1250\u001b[0m \u001b[32m━━━━━━━━━━━━━━━━━━━━\u001b[0m\u001b[37m\u001b[0m \u001b[1m42s\u001b[0m 34ms/step - accuracy: 0.8503 - loss: 0.4245 - val_accuracy: 0.6794 - val_loss: 1.1474\n",
      "Epoch 14/25\n",
      "\u001b[1m1250/1250\u001b[0m \u001b[32m━━━━━━━━━━━━━━━━━━━━\u001b[0m\u001b[37m\u001b[0m \u001b[1m43s\u001b[0m 34ms/step - accuracy: 0.8585 - loss: 0.4047 - val_accuracy: 0.7276 - val_loss: 0.9543\n",
      "Epoch 15/25\n",
      "\u001b[1m1250/1250\u001b[0m \u001b[32m━━━━━━━━━━━━━━━━━━━━\u001b[0m\u001b[37m\u001b[0m \u001b[1m42s\u001b[0m 34ms/step - accuracy: 0.8618 - loss: 0.3820 - val_accuracy: 0.7316 - val_loss: 0.9001\n",
      "Epoch 16/25\n",
      "\u001b[1m1250/1250\u001b[0m \u001b[32m━━━━━━━━━━━━━━━━━━━━\u001b[0m\u001b[37m\u001b[0m \u001b[1m43s\u001b[0m 35ms/step - accuracy: 0.8712 - loss: 0.3640 - val_accuracy: 0.6566 - val_loss: 1.2985\n",
      "Epoch 17/25\n",
      "\u001b[1m1250/1250\u001b[0m \u001b[32m━━━━━━━━━━━━━━━━━━━━\u001b[0m\u001b[37m\u001b[0m \u001b[1m44s\u001b[0m 35ms/step - accuracy: 0.8766 - loss: 0.3452 - val_accuracy: 0.6997 - val_loss: 1.0894\n",
      "Epoch 18/25\n",
      "\u001b[1m1250/1250\u001b[0m \u001b[32m━━━━━━━━━━━━━━━━━━━━\u001b[0m\u001b[37m\u001b[0m \u001b[1m44s\u001b[0m 35ms/step - accuracy: 0.8795 - loss: 0.3341 - val_accuracy: 0.7346 - val_loss: 0.9624\n",
      "Epoch 19/25\n",
      "\u001b[1m1250/1250\u001b[0m \u001b[32m━━━━━━━━━━━━━━━━━━━━\u001b[0m\u001b[37m\u001b[0m \u001b[1m43s\u001b[0m 34ms/step - accuracy: 0.8887 - loss: 0.3116 - val_accuracy: 0.6962 - val_loss: 1.1926\n",
      "Epoch 20/25\n",
      "\u001b[1m1250/1250\u001b[0m \u001b[32m━━━━━━━━━━━━━━━━━━━━\u001b[0m\u001b[37m\u001b[0m \u001b[1m43s\u001b[0m 34ms/step - accuracy: 0.8960 - loss: 0.2946 - val_accuracy: 0.6889 - val_loss: 1.3531\n",
      "Epoch 21/25\n",
      "\u001b[1m1250/1250\u001b[0m \u001b[32m━━━━━━━━━━━━━━━━━━━━\u001b[0m\u001b[37m\u001b[0m \u001b[1m42s\u001b[0m 34ms/step - accuracy: 0.8969 - loss: 0.2862 - val_accuracy: 0.7020 - val_loss: 1.2523\n",
      "Epoch 22/25\n",
      "\u001b[1m1250/1250\u001b[0m \u001b[32m━━━━━━━━━━━━━━━━━━━━\u001b[0m\u001b[37m\u001b[0m \u001b[1m47s\u001b[0m 37ms/step - accuracy: 0.9086 - loss: 0.2645 - val_accuracy: 0.7202 - val_loss: 1.1678\n",
      "Epoch 23/25\n",
      "\u001b[1m1250/1250\u001b[0m \u001b[32m━━━━━━━━━━━━━━━━━━━━\u001b[0m\u001b[37m\u001b[0m \u001b[1m44s\u001b[0m 35ms/step - accuracy: 0.9123 - loss: 0.2503 - val_accuracy: 0.7375 - val_loss: 1.0711\n",
      "Epoch 24/25\n",
      "\u001b[1m1250/1250\u001b[0m \u001b[32m━━━━━━━━━━━━━━━━━━━━\u001b[0m\u001b[37m\u001b[0m \u001b[1m42s\u001b[0m 33ms/step - accuracy: 0.9143 - loss: 0.2449 - val_accuracy: 0.7386 - val_loss: 1.0849\n",
      "Epoch 25/25\n",
      "\u001b[1m1250/1250\u001b[0m \u001b[32m━━━━━━━━━━━━━━━━━━━━\u001b[0m\u001b[37m\u001b[0m \u001b[1m42s\u001b[0m 34ms/step - accuracy: 0.9164 - loss: 0.2368 - val_accuracy: 0.7304 - val_loss: 1.2404\n"
     ]
    },
    {
     "data": {
      "text/plain": [
       "<keras.src.callbacks.history.History at 0x29beaf6f050>"
      ]
     },
     "execution_count": 15,
     "metadata": {},
     "output_type": "execute_result"
    }
   ],
   "source": [
    "model.fit(x_train,y_train,validation_split=.2,epochs=25)"
   ]
  },
  {
   "cell_type": "markdown",
   "id": "ff6cc320-461d-4f42-8ff3-f6a368a84633",
   "metadata": {},
   "source": [
    "### Result"
   ]
  },
  {
   "cell_type": "code",
   "execution_count": 16,
   "id": "a78c416a-5bf5-40e0-b64a-588f192e0dde",
   "metadata": {},
   "outputs": [
    {
     "name": "stdout",
     "output_type": "stream",
     "text": [
      "\u001b[1m313/313\u001b[0m \u001b[32m━━━━━━━━━━━━━━━━━━━━\u001b[0m\u001b[37m\u001b[0m \u001b[1m3s\u001b[0m 10ms/step - accuracy: 0.7355 - loss: 1.2501\n"
     ]
    }
   ],
   "source": [
    "loss,accuracy = model.evaluate(x_test,y_test)"
   ]
  },
  {
   "cell_type": "code",
   "execution_count": 17,
   "id": "21edfa89-738a-424c-ad60-8706949f4043",
   "metadata": {},
   "outputs": [
    {
     "data": {
      "text/plain": [
       "0.7283999919891357"
      ]
     },
     "execution_count": 17,
     "metadata": {},
     "output_type": "execute_result"
    }
   ],
   "source": [
    "accuracy"
   ]
  },
  {
   "cell_type": "code",
   "execution_count": 42,
   "id": "66b1170f-38ce-464e-94b3-1de0d5a2e3a3",
   "metadata": {},
   "outputs": [],
   "source": [
    "model.save(\"mymodel.keras\")"
   ]
  },
  {
   "cell_type": "code",
   "execution_count": 33,
   "id": "20a5d697-7728-403e-a157-602468d3225d",
   "metadata": {},
   "outputs": [
    {
     "name": "stdout",
     "output_type": "stream",
     "text": [
      "\u001b[1m1/1\u001b[0m \u001b[32m━━━━━━━━━━━━━━━━━━━━\u001b[0m\u001b[37m\u001b[0m \u001b[1m0s\u001b[0m 46ms/step\n"
     ]
    },
    {
     "data": {
      "text/plain": [
       "'cat'"
      ]
     },
     "execution_count": 33,
     "metadata": {},
     "output_type": "execute_result"
    }
   ],
   "source": [
    "prediction = model.predict(np.expand_dims(x_train[9], axis=0)) \n",
    "predicted_class = np.argmax(prediction)\n",
    "class_labels[predicted_class]"
   ]
  },
  {
   "cell_type": "code",
   "execution_count": 31,
   "id": "c1266875-0ae7-42f3-b700-47bd404e58e4",
   "metadata": {},
   "outputs": [
    {
     "name": "stdout",
     "output_type": "stream",
     "text": [
      "\u001b[1m1/1\u001b[0m \u001b[32m━━━━━━━━━━━━━━━━━━━━\u001b[0m\u001b[37m\u001b[0m \u001b[1m0s\u001b[0m 365ms/step\n"
     ]
    },
    {
     "data": {
      "text/plain": [
       "'frog'"
      ]
     },
     "execution_count": 31,
     "metadata": {},
     "output_type": "execute_result"
    }
   ],
   "source": [
    "prediction = model.predict(np.expand_dims(x_train[19], axis=0)) \n",
    "predicted_class = np.argmax(prediction) \n",
    "\n",
    "# CIFAR-10 sınıf etiketleri\n",
    "class_labels = ['airplane', 'automobile', 'bird', 'cat', 'deer', 'dog', 'frog', 'horse', 'ship', 'truck']\n",
    "\n",
    "class_labels[predicted_class]"
   ]
  },
  {
   "cell_type": "markdown",
   "id": "e16a6e75-eb43-4ddd-ba88-189a77e7b201",
   "metadata": {},
   "source": [
    "Bu proje kapsamında, CIFAR-10 veri seti kullanılarak bir görüntü sınıflandırma problemi çözülmeye çalışılmıştır. Proje boyunca Konvolüsyonel Sinir Ağları (CNN) kullanılarak modelin doğruluğunu artırmaya yönelik çeşitli stratejiler uygulanmıştır. Modelin doğruluğu %72 civarında olsa da, ileri optimizasyon teknikleri, farklı mimariler ve hiperparametre ayarlamaları ile bu doğruluğun daha da artırılması mümkündür. Sonuç olarak, proje derin öğrenmenin görüntü sınıflandırma üzerindeki etkisini göstermiş ve gelecekte yapılacak iyileştirmeler için sağlam bir temel oluşturmuştur."
   ]
  }
 ],
 "metadata": {
  "kernelspec": {
   "display_name": "Python 3 (ipykernel)",
   "language": "python",
   "name": "python3"
  },
  "language_info": {
   "codemirror_mode": {
    "name": "ipython",
    "version": 3
   },
   "file_extension": ".py",
   "mimetype": "text/x-python",
   "name": "python",
   "nbconvert_exporter": "python",
   "pygments_lexer": "ipython3",
   "version": "3.12.4"
  }
 },
 "nbformat": 4,
 "nbformat_minor": 5
}
