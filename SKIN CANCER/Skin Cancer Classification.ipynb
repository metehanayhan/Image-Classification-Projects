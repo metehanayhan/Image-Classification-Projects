{
 "cells": [
  {
   "cell_type": "markdown",
   "id": "e34d058c-461f-4081-90ed-dd4ed46bb369",
   "metadata": {},
   "source": [
    "# Metehan Ayhan - Skin Cancer Classification Project"
   ]
  },
  {
   "cell_type": "markdown",
   "id": "8e77b103-2d97-405c-8064-ad11f9455292",
   "metadata": {},
   "source": [
    "Bu projede kanserli ve kanser olmayan cilt resimleri kullanılarak kendisine verilen cilt resmiyle, cildin kanserli olup olmadığını tahmin eden bir yapay zeka modeli geliştireceğiz."
   ]
  },
  {
   "cell_type": "markdown",
   "id": "9ac09d5e-ebcd-4d9d-988a-8d7b65891048",
   "metadata": {},
   "source": [
    "### Gerekli Paketleri import edelim"
   ]
  },
  {
   "cell_type": "code",
   "execution_count": 5,
   "id": "bb18332e-3a82-4bae-be18-7da807c7bdea",
   "metadata": {},
   "outputs": [],
   "source": [
    "import cv2\n",
    "import pandas as pd\n",
    "import os #bu paket dosyaları okuma açma işlemi için.."
   ]
  },
  {
   "cell_type": "code",
   "execution_count": 6,
   "id": "71cae782-0992-4848-a9fe-40f65ace826a",
   "metadata": {},
   "outputs": [],
   "source": [
    "#pip install opencv-python"
   ]
  },
  {
   "cell_type": "code",
   "execution_count": 7,
   "id": "d871b5b5-310e-4ce8-98fc-f48ce3d85708",
   "metadata": {},
   "outputs": [],
   "source": [
    "labels=['Cancer','Non_Cancer']\n",
    "img_path='Skin_Data/' #resimlerin yolunu verdik"
   ]
  },
  {
   "cell_type": "code",
   "execution_count": 8,
   "id": "a66ee4e9-ab8f-4cc8-8a90-b39ac5e1cb4d",
   "metadata": {},
   "outputs": [
    {
     "data": {
      "text/plain": [
       "['Cancer', 'Non_Cancer']"
      ]
     },
     "execution_count": 8,
     "metadata": {},
     "output_type": "execute_result"
    }
   ],
   "source": [
    "os.listdir('Skin_Data')"
   ]
  },
  {
   "cell_type": "code",
   "execution_count": 9,
   "id": "c3537964-04be-47ee-8114-8933edb7c082",
   "metadata": {},
   "outputs": [],
   "source": [
    "img_list=[] # önce boş liste oluşturduk resimleri okudukça içine atacağız.\n",
    "label_list=[] #etiketler\n",
    "\n",
    "for label in labels:\n",
    "    for img_file in os.listdir(img_path+label):\n",
    "        img_list.append(img_path+label+'/'+img_file)\n",
    "        label_list.append(label)"
   ]
  },
  {
   "cell_type": "code",
   "execution_count": 10,
   "id": "3a7cd061-3734-49d4-9595-4b9af795b86d",
   "metadata": {},
   "outputs": [],
   "source": [
    "df=pd.DataFrame({'img':img_list, 'label':label_list})"
   ]
  },
  {
   "cell_type": "code",
   "execution_count": 11,
   "id": "10d46a3c-ac72-470f-bbf6-ddd30920dc1f",
   "metadata": {},
   "outputs": [
    {
     "data": {
      "text/html": [
       "<div>\n",
       "<style scoped>\n",
       "    .dataframe tbody tr th:only-of-type {\n",
       "        vertical-align: middle;\n",
       "    }\n",
       "\n",
       "    .dataframe tbody tr th {\n",
       "        vertical-align: top;\n",
       "    }\n",
       "\n",
       "    .dataframe thead th {\n",
       "        text-align: right;\n",
       "    }\n",
       "</style>\n",
       "<table border=\"1\" class=\"dataframe\">\n",
       "  <thead>\n",
       "    <tr style=\"text-align: right;\">\n",
       "      <th></th>\n",
       "      <th>img</th>\n",
       "      <th>label</th>\n",
       "    </tr>\n",
       "  </thead>\n",
       "  <tbody>\n",
       "    <tr>\n",
       "      <th>0</th>\n",
       "      <td>Skin_Data/Cancer/1007-1.jpg</td>\n",
       "      <td>Cancer</td>\n",
       "    </tr>\n",
       "    <tr>\n",
       "      <th>1</th>\n",
       "      <td>Skin_Data/Cancer/1010-01.JPG</td>\n",
       "      <td>Cancer</td>\n",
       "    </tr>\n",
       "    <tr>\n",
       "      <th>2</th>\n",
       "      <td>Skin_Data/Cancer/1012-2.JPG</td>\n",
       "      <td>Cancer</td>\n",
       "    </tr>\n",
       "    <tr>\n",
       "      <th>3</th>\n",
       "      <td>Skin_Data/Cancer/1031-1.jpg</td>\n",
       "      <td>Cancer</td>\n",
       "    </tr>\n",
       "    <tr>\n",
       "      <th>4</th>\n",
       "      <td>Skin_Data/Cancer/1051-3(94).jpg</td>\n",
       "      <td>Cancer</td>\n",
       "    </tr>\n",
       "  </tbody>\n",
       "</table>\n",
       "</div>"
      ],
      "text/plain": [
       "                               img   label\n",
       "0      Skin_Data/Cancer/1007-1.jpg  Cancer\n",
       "1     Skin_Data/Cancer/1010-01.JPG  Cancer\n",
       "2      Skin_Data/Cancer/1012-2.JPG  Cancer\n",
       "3      Skin_Data/Cancer/1031-1.jpg  Cancer\n",
       "4  Skin_Data/Cancer/1051-3(94).jpg  Cancer"
      ]
     },
     "execution_count": 11,
     "metadata": {},
     "output_type": "execute_result"
    }
   ],
   "source": [
    "df.head()"
   ]
  },
  {
   "cell_type": "code",
   "execution_count": 12,
   "id": "4abd5862-dc22-4391-99b2-d3209890c80f",
   "metadata": {},
   "outputs": [
    {
     "data": {
      "text/html": [
       "<div>\n",
       "<style scoped>\n",
       "    .dataframe tbody tr th:only-of-type {\n",
       "        vertical-align: middle;\n",
       "    }\n",
       "\n",
       "    .dataframe tbody tr th {\n",
       "        vertical-align: top;\n",
       "    }\n",
       "\n",
       "    .dataframe thead th {\n",
       "        text-align: right;\n",
       "    }\n",
       "</style>\n",
       "<table border=\"1\" class=\"dataframe\">\n",
       "  <thead>\n",
       "    <tr style=\"text-align: right;\">\n",
       "      <th></th>\n",
       "      <th>img</th>\n",
       "      <th>label</th>\n",
       "    </tr>\n",
       "  </thead>\n",
       "  <tbody>\n",
       "    <tr>\n",
       "      <th>283</th>\n",
       "      <td>Skin_Data/Non_Cancer/953-1.JPG</td>\n",
       "      <td>Non_Cancer</td>\n",
       "    </tr>\n",
       "    <tr>\n",
       "      <th>284</th>\n",
       "      <td>Skin_Data/Non_Cancer/954-3.JPG</td>\n",
       "      <td>Non_Cancer</td>\n",
       "    </tr>\n",
       "    <tr>\n",
       "      <th>285</th>\n",
       "      <td>Skin_Data/Non_Cancer/955.JPG</td>\n",
       "      <td>Non_Cancer</td>\n",
       "    </tr>\n",
       "    <tr>\n",
       "      <th>286</th>\n",
       "      <td>Skin_Data/Non_Cancer/984.JPG</td>\n",
       "      <td>Non_Cancer</td>\n",
       "    </tr>\n",
       "    <tr>\n",
       "      <th>287</th>\n",
       "      <td>Skin_Data/Non_Cancer/986-1.JPG</td>\n",
       "      <td>Non_Cancer</td>\n",
       "    </tr>\n",
       "  </tbody>\n",
       "</table>\n",
       "</div>"
      ],
      "text/plain": [
       "                                img       label\n",
       "283  Skin_Data/Non_Cancer/953-1.JPG  Non_Cancer\n",
       "284  Skin_Data/Non_Cancer/954-3.JPG  Non_Cancer\n",
       "285    Skin_Data/Non_Cancer/955.JPG  Non_Cancer\n",
       "286    Skin_Data/Non_Cancer/984.JPG  Non_Cancer\n",
       "287  Skin_Data/Non_Cancer/986-1.JPG  Non_Cancer"
      ]
     },
     "execution_count": 12,
     "metadata": {},
     "output_type": "execute_result"
    }
   ],
   "source": [
    "df.tail()"
   ]
  },
  {
   "cell_type": "code",
   "execution_count": 13,
   "id": "f7c1ddf5-005e-4a60-9907-0887d6afe30d",
   "metadata": {},
   "outputs": [],
   "source": [
    " import matplotlib.pyplot as plt"
   ]
  },
  {
   "cell_type": "code",
   "execution_count": 14,
   "id": "123d0b2d-d160-4386-a389-929e4a0a522e",
   "metadata": {},
   "outputs": [],
   "source": [
    "d={'Cancer':1,'Non_Cancer':0}"
   ]
  },
  {
   "cell_type": "code",
   "execution_count": 15,
   "id": "4920befb-0bde-40b1-a84f-aed7cf78921f",
   "metadata": {},
   "outputs": [],
   "source": [
    "df['encode_label']=df['label'].map(d)"
   ]
  },
  {
   "cell_type": "code",
   "execution_count": 16,
   "id": "7489a655-1485-4fa4-b60f-27ad9b1d6ddd",
   "metadata": {},
   "outputs": [
    {
     "data": {
      "text/html": [
       "<div>\n",
       "<style scoped>\n",
       "    .dataframe tbody tr th:only-of-type {\n",
       "        vertical-align: middle;\n",
       "    }\n",
       "\n",
       "    .dataframe tbody tr th {\n",
       "        vertical-align: top;\n",
       "    }\n",
       "\n",
       "    .dataframe thead th {\n",
       "        text-align: right;\n",
       "    }\n",
       "</style>\n",
       "<table border=\"1\" class=\"dataframe\">\n",
       "  <thead>\n",
       "    <tr style=\"text-align: right;\">\n",
       "      <th></th>\n",
       "      <th>img</th>\n",
       "      <th>label</th>\n",
       "      <th>encode_label</th>\n",
       "    </tr>\n",
       "  </thead>\n",
       "  <tbody>\n",
       "    <tr>\n",
       "      <th>25</th>\n",
       "      <td>Skin_Data/Cancer/1777-1.JPG</td>\n",
       "      <td>Cancer</td>\n",
       "      <td>1</td>\n",
       "    </tr>\n",
       "    <tr>\n",
       "      <th>125</th>\n",
       "      <td>Skin_Data/Non_Cancer/1393-1.JPG</td>\n",
       "      <td>Non_Cancer</td>\n",
       "      <td>0</td>\n",
       "    </tr>\n",
       "    <tr>\n",
       "      <th>156</th>\n",
       "      <td>Skin_Data/Non_Cancer/1834-01.JPG</td>\n",
       "      <td>Non_Cancer</td>\n",
       "      <td>0</td>\n",
       "    </tr>\n",
       "    <tr>\n",
       "      <th>90</th>\n",
       "      <td>Skin_Data/Non_Cancer/1054.JPG</td>\n",
       "      <td>Non_Cancer</td>\n",
       "      <td>0</td>\n",
       "    </tr>\n",
       "    <tr>\n",
       "      <th>263</th>\n",
       "      <td>Skin_Data/Non_Cancer/783.JPG</td>\n",
       "      <td>Non_Cancer</td>\n",
       "      <td>0</td>\n",
       "    </tr>\n",
       "  </tbody>\n",
       "</table>\n",
       "</div>"
      ],
      "text/plain": [
       "                                  img       label  encode_label\n",
       "25        Skin_Data/Cancer/1777-1.JPG      Cancer             1\n",
       "125   Skin_Data/Non_Cancer/1393-1.JPG  Non_Cancer             0\n",
       "156  Skin_Data/Non_Cancer/1834-01.JPG  Non_Cancer             0\n",
       "90      Skin_Data/Non_Cancer/1054.JPG  Non_Cancer             0\n",
       "263      Skin_Data/Non_Cancer/783.JPG  Non_Cancer             0"
      ]
     },
     "execution_count": 16,
     "metadata": {},
     "output_type": "execute_result"
    }
   ],
   "source": [
    "df.sample(5)"
   ]
  },
  {
   "cell_type": "code",
   "execution_count": 17,
   "id": "1383e8a3-26a1-4861-8300-cb49b68bce69",
   "metadata": {},
   "outputs": [],
   "source": [
    "import numpy as np"
   ]
  },
  {
   "cell_type": "code",
   "execution_count": 18,
   "id": "7656ad97-de0e-4744-abc2-2df0ec3d6448",
   "metadata": {},
   "outputs": [],
   "source": [
    "# normalize edelim\n",
    "x=[]\n",
    "for img in df['img']:\n",
    "    img=cv2.imread(img)   #resimleri okuma\n",
    "    img=cv2.resize(img,(170,170))   #yeniden boyutlandırma 179x170 pixel\n",
    "    img=img/255.0   #normalize\n",
    "    x.append(img)"
   ]
  },
  {
   "cell_type": "code",
   "execution_count": 19,
   "id": "8a41f0d0-4dd0-4e9f-90df-6bfdb0441db1",
   "metadata": {},
   "outputs": [],
   "source": [
    " x=np.array(x) #sayı dizisine dönüştürüyoruz.."
   ]
  },
  {
   "cell_type": "code",
   "execution_count": 20,
   "id": "95527690-c727-4417-b31d-3a03049e0f17",
   "metadata": {},
   "outputs": [],
   "source": [
    "y=df['encode_label']"
   ]
  },
  {
   "cell_type": "code",
   "execution_count": 21,
   "id": "397f777a-24aa-427d-b326-a4f5afcd24ea",
   "metadata": {},
   "outputs": [],
   "source": [
    "from sklearn.model_selection import train_test_split"
   ]
  },
  {
   "cell_type": "code",
   "execution_count": 22,
   "id": "2647ff62-fa2a-491d-ab77-8d07ed41e9b6",
   "metadata": {},
   "outputs": [],
   "source": [
    "x_train,x_test,y_train,y_test= train_test_split(x,y,test_size=.20,random_state=42)"
   ]
  },
  {
   "cell_type": "code",
   "execution_count": 23,
   "id": "454b2358-4edc-4df5-a623-9801b7911f22",
   "metadata": {},
   "outputs": [],
   "source": [
    "from keras.models import Sequential\n",
    "from keras.layers import Dense, Conv2D, Flatten, Input, MaxPooling2D, Dropout, Reshape, BatchNormalization"
   ]
  },
  {
   "cell_type": "markdown",
   "id": "40970494-5017-48fe-9f88-92846888e52b",
   "metadata": {},
   "source": [
    "### CNN - Convolutional Neural Networks"
   ]
  },
  {
   "cell_type": "code",
   "execution_count": 25,
   "id": "8d3a243c-78dd-40f3-b5e0-0db3b00ce7cb",
   "metadata": {},
   "outputs": [],
   "source": [
    "model=Sequential()\n",
    "model.add(Input(shape=(170,170,3)))\n",
    "model.add(Conv2D(32,kernel_size=(3,3),activation='relu'))\n",
    "model.add(MaxPooling2D(pool_size=(2,2)))\n",
    "model.add(Conv2D(64,kernel_size=(3,3),activation='relu'))\n",
    "model.add(MaxPooling2D(pool_size=(2,2)))\n",
    "model.add(Flatten())\n",
    "model.add(Dense(128))\n",
    "model.add(Dense(2, activation='softmax'))\n",
    "model.compile(optimizer='adam',loss='sparse_categorical_crossentropy',metrics=['accuracy'])          "
   ]
  },
  {
   "cell_type": "code",
   "execution_count": 26,
   "id": "b00cce7e-3012-4ab4-bf25-c5c9e220432f",
   "metadata": {},
   "outputs": [
    {
     "name": "stdout",
     "output_type": "stream",
     "text": [
      "Epoch 1/15\n",
      "\u001b[1m8/8\u001b[0m \u001b[32m━━━━━━━━━━━━━━━━━━━━\u001b[0m\u001b[37m\u001b[0m \u001b[1m8s\u001b[0m 443ms/step - accuracy: 0.6827 - loss: 17.2804 - val_accuracy: 0.7414 - val_loss: 0.7153\n",
      "Epoch 2/15\n",
      "\u001b[1m8/8\u001b[0m \u001b[32m━━━━━━━━━━━━━━━━━━━━\u001b[0m\u001b[37m\u001b[0m \u001b[1m3s\u001b[0m 362ms/step - accuracy: 0.6621 - loss: 1.3574 - val_accuracy: 0.6034 - val_loss: 0.6417\n",
      "Epoch 3/15\n",
      "\u001b[1m8/8\u001b[0m \u001b[32m━━━━━━━━━━━━━━━━━━━━\u001b[0m\u001b[37m\u001b[0m \u001b[1m3s\u001b[0m 394ms/step - accuracy: 0.7476 - loss: 0.5569 - val_accuracy: 0.7414 - val_loss: 0.6001\n",
      "Epoch 4/15\n",
      "\u001b[1m8/8\u001b[0m \u001b[32m━━━━━━━━━━━━━━━━━━━━\u001b[0m\u001b[37m\u001b[0m \u001b[1m3s\u001b[0m 356ms/step - accuracy: 0.7229 - loss: 0.5588 - val_accuracy: 0.4655 - val_loss: 0.8085\n",
      "Epoch 5/15\n",
      "\u001b[1m8/8\u001b[0m \u001b[32m━━━━━━━━━━━━━━━━━━━━\u001b[0m\u001b[37m\u001b[0m \u001b[1m3s\u001b[0m 342ms/step - accuracy: 0.6863 - loss: 0.6313 - val_accuracy: 0.7759 - val_loss: 0.5664\n",
      "Epoch 6/15\n",
      "\u001b[1m8/8\u001b[0m \u001b[32m━━━━━━━━━━━━━━━━━━━━\u001b[0m\u001b[37m\u001b[0m \u001b[1m3s\u001b[0m 352ms/step - accuracy: 0.7808 - loss: 0.4980 - val_accuracy: 0.7069 - val_loss: 0.6426\n",
      "Epoch 7/15\n",
      "\u001b[1m8/8\u001b[0m \u001b[32m━━━━━━━━━━━━━━━━━━━━\u001b[0m\u001b[37m\u001b[0m \u001b[1m3s\u001b[0m 366ms/step - accuracy: 0.8030 - loss: 0.4818 - val_accuracy: 0.7931 - val_loss: 0.5140\n",
      "Epoch 8/15\n",
      "\u001b[1m8/8\u001b[0m \u001b[32m━━━━━━━━━━━━━━━━━━━━\u001b[0m\u001b[37m\u001b[0m \u001b[1m3s\u001b[0m 370ms/step - accuracy: 0.8333 - loss: 0.4147 - val_accuracy: 0.8103 - val_loss: 0.4340\n",
      "Epoch 9/15\n",
      "\u001b[1m8/8\u001b[0m \u001b[32m━━━━━━━━━━━━━━━━━━━━\u001b[0m\u001b[37m\u001b[0m \u001b[1m3s\u001b[0m 369ms/step - accuracy: 0.8122 - loss: 0.4176 - val_accuracy: 0.7931 - val_loss: 0.4740\n",
      "Epoch 10/15\n",
      "\u001b[1m8/8\u001b[0m \u001b[32m━━━━━━━━━━━━━━━━━━━━\u001b[0m\u001b[37m\u001b[0m \u001b[1m3s\u001b[0m 360ms/step - accuracy: 0.8215 - loss: 0.3770 - val_accuracy: 0.8276 - val_loss: 0.4316\n",
      "Epoch 11/15\n",
      "\u001b[1m8/8\u001b[0m \u001b[32m━━━━━━━━━━━━━━━━━━━━\u001b[0m\u001b[37m\u001b[0m \u001b[1m3s\u001b[0m 383ms/step - accuracy: 0.8666 - loss: 0.3376 - val_accuracy: 0.8276 - val_loss: 0.4199\n",
      "Epoch 12/15\n",
      "\u001b[1m8/8\u001b[0m \u001b[32m━━━━━━━━━━━━━━━━━━━━\u001b[0m\u001b[37m\u001b[0m \u001b[1m3s\u001b[0m 357ms/step - accuracy: 0.9073 - loss: 0.2406 - val_accuracy: 0.8793 - val_loss: 0.3473\n",
      "Epoch 13/15\n",
      "\u001b[1m8/8\u001b[0m \u001b[32m━━━━━━━━━━━━━━━━━━━━\u001b[0m\u001b[37m\u001b[0m \u001b[1m3s\u001b[0m 353ms/step - accuracy: 0.9213 - loss: 0.1981 - val_accuracy: 0.8621 - val_loss: 0.3823\n",
      "Epoch 14/15\n",
      "\u001b[1m8/8\u001b[0m \u001b[32m━━━━━━━━━━━━━━━━━━━━\u001b[0m\u001b[37m\u001b[0m \u001b[1m3s\u001b[0m 365ms/step - accuracy: 0.9510 - loss: 0.1517 - val_accuracy: 0.9138 - val_loss: 0.2525\n",
      "Epoch 15/15\n",
      "\u001b[1m8/8\u001b[0m \u001b[32m━━━━━━━━━━━━━━━━━━━━\u001b[0m\u001b[37m\u001b[0m \u001b[1m3s\u001b[0m 378ms/step - accuracy: 0.9483 - loss: 0.1326 - val_accuracy: 0.8621 - val_loss: 0.2553\n"
     ]
    }
   ],
   "source": [
    "history= model.fit(x_train,y_train,validation_data=(x_test,y_test),epochs=15,verbose=1)"
   ]
  },
  {
   "cell_type": "code",
   "execution_count": 27,
   "id": "a88c3e49-c862-46a9-a3e0-f6fd5324c6b3",
   "metadata": {},
   "outputs": [
    {
     "name": "stderr",
     "output_type": "stream",
     "text": [
      "WARNING:absl:You are saving your model as an HDF5 file via `model.save()` or `keras.saving.save_model(model)`. This file format is considered legacy. We recommend using instead the native Keras format, e.g. `model.save('my_model.keras')` or `keras.saving.save_model(model, 'my_model.keras')`. \n"
     ]
    }
   ],
   "source": [
    "model.save('my_cnn_model.h5')"
   ]
  }
 ],
 "metadata": {
  "kernelspec": {
   "display_name": "Python 3 (ipykernel)",
   "language": "python",
   "name": "python3"
  },
  "language_info": {
   "codemirror_mode": {
    "name": "ipython",
    "version": 3
   },
   "file_extension": ".py",
   "mimetype": "text/x-python",
   "name": "python",
   "nbconvert_exporter": "python",
   "pygments_lexer": "ipython3",
   "version": "3.12.4"
  }
 },
 "nbformat": 4,
 "nbformat_minor": 5
}
